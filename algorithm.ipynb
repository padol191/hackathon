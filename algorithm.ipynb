{
 "cells": [
  {
   "cell_type": "code",
   "execution_count": 14,
   "metadata": {},
   "outputs": [],
   "source": [
    "import pandas as pd\n",
    "import numpy as np\n"
   ]
  },
  {
   "cell_type": "code",
   "execution_count": 20,
   "metadata": {},
   "outputs": [
    {
     "name": "stdout",
     "output_type": "stream",
     "text": [
      "Collecting package metadata (current_repodata.json): ...working... done\n",
      "Solving environment: ...working... done\n",
      "\n",
      "## Package Plan ##\n",
      "\n",
      "  environment location: C:\\ProgramData\\Anaconda3\n",
      "\n",
      "  added / updated specs:\n",
      "    - scikit-learn\n",
      "\n",
      "\n",
      "The following packages will be UPDATED:\n",
      "\n",
      "  conda                                       4.7.10-py37_0 --> 4.8.3-py37_0\n",
      "\n",
      "\n",
      "Preparing transaction: ...working... done\n",
      "Verifying transaction: ...working... failed\n",
      "\n",
      "Note: you may need to restart the kernel to use updated packages.\n"
     ]
    },
    {
     "name": "stderr",
     "output_type": "stream",
     "text": [
      "\n",
      "EnvironmentNotWritableError: The current user does not have write permissions to the target environment.\n",
      "  environment location: C:\\ProgramData\\Anaconda3\n",
      "\n",
      "\n"
     ]
    }
   ],
   "source": [
    "conda install scikit-learn"
   ]
  },
  {
   "cell_type": "code",
   "execution_count": 21,
   "metadata": {
    "scrolled": true
   },
   "outputs": [
    {
     "name": "stdout",
     "output_type": "stream",
     "text": [
      "    company_id     company      name  claim_ratio  coverage  premium\n",
      "0            1        tata       AIA         0.72        65    31000\n",
      "1            1        tata      ARYA         0.77        65    32000\n",
      "2            1        tata    jeevan         0.80        67    37000\n",
      "3            2         max      life         0.75        75    34000\n",
      "4            2         max      bupa         0.70        60    30000\n",
      "5            3       icici   lombard         0.78        65    36000\n",
      "6            3       icici      atoz         0.69        65    31000\n",
      "7            4        sbi    general         0.67        70    32000\n",
      "8            4       bajaj  alliance         0.81        70    38000\n",
      "9            5    reliance  religare         0.77        70    37000\n",
      "10           5    reliance    health         0.77        70    33000\n",
      "11           6      future   general         0.71        65    33000\n",
      "12           7  indiafirst     sehat         0.66        60    28000\n"
     ]
    }
   ],
   "source": [
    "insurance_data = pd.read_csv(\"C:/Users/{{{/Desktop/py/book1.csv\")\n",
    "print(insurance_data)"
   ]
  },
  {
   "cell_type": "code",
   "execution_count": 22,
   "metadata": {},
   "outputs": [
    {
     "name": "stdout",
     "output_type": "stream",
     "text": [
      "data: (13, 6)\n"
     ]
    }
   ],
   "source": [
    "print(\"data:\",insurance_data.shape)"
   ]
  },
  {
   "cell_type": "code",
   "execution_count": null,
   "metadata": {},
   "outputs": [],
   "source": []
  }
 ],
 "metadata": {
  "kernelspec": {
   "display_name": "Python 3",
   "language": "python",
   "name": "python3"
  },
  "language_info": {
   "codemirror_mode": {
    "name": "ipython",
    "version": 3
   },
   "file_extension": ".py",
   "mimetype": "text/x-python",
   "name": "python",
   "nbconvert_exporter": "python",
   "pygments_lexer": "ipython3",
   "version": "3.7.3"
  }
 },
 "nbformat": 4,
 "nbformat_minor": 2
}
